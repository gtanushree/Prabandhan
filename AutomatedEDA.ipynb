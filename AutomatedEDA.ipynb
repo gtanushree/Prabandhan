{
 "cells": [
  {
   "cell_type": "code",
   "execution_count": 1,
   "id": "50e5a8c9",
   "metadata": {},
   "outputs": [
    {
     "data": {
      "text/html": [
       "\n",
       "            <div>\n",
       "                <ins><a href=\"https://ydata.ai/register\">Upgrade to ydata-sdk</a></ins>\n",
       "                <p>\n",
       "                    Improve your data and profiling with ydata-sdk, featuring data quality scoring, redundancy detection, outlier identification, text validation, and synthetic data generation.\n",
       "                </p>\n",
       "            </div>\n",
       "            "
      ],
      "text/plain": [
       "<IPython.core.display.HTML object>"
      ]
     },
     "metadata": {},
     "output_type": "display_data"
    }
   ],
   "source": [
    "import pandas as pd\n",
    "import numpy as np\n",
    "from ydata_profiling import ProfileReport"
   ]
  },
  {
   "cell_type": "markdown",
   "id": "a7b2404a",
   "metadata": {},
   "source": [
    "Automated EDA"
   ]
  },
  {
   "cell_type": "code",
   "execution_count": 2,
   "id": "ce6d517c",
   "metadata": {},
   "outputs": [
    {
     "data": {
      "text/html": [
       "<div>\n",
       "<style scoped>\n",
       "    .dataframe tbody tr th:only-of-type {\n",
       "        vertical-align: middle;\n",
       "    }\n",
       "\n",
       "    .dataframe tbody tr th {\n",
       "        vertical-align: top;\n",
       "    }\n",
       "\n",
       "    .dataframe thead th {\n",
       "        text-align: right;\n",
       "    }\n",
       "</style>\n",
       "<table border=\"1\" class=\"dataframe\">\n",
       "  <thead>\n",
       "    <tr style=\"text-align: right;\">\n",
       "      <th></th>\n",
       "      <th>Project ID</th>\n",
       "      <th>Department</th>\n",
       "      <th>Project Type</th>\n",
       "      <th>Timeline Tag</th>\n",
       "      <th>Start Date</th>\n",
       "      <th>End Date</th>\n",
       "      <th>Status</th>\n",
       "      <th>Location</th>\n",
       "      <th>Other Departments Involved</th>\n",
       "      <th>Inventory of Available Resources</th>\n",
       "    </tr>\n",
       "  </thead>\n",
       "  <tbody>\n",
       "    <tr>\n",
       "      <th>0</th>\n",
       "      <td>PRJ00001</td>\n",
       "      <td>Finance Department</td>\n",
       "      <td>Budget Dashboard</td>\n",
       "      <td>Last Decade</td>\n",
       "      <td>2015-06-29</td>\n",
       "      <td>2016-01-21</td>\n",
       "      <td>Completed</td>\n",
       "      <td>Ram Bagh</td>\n",
       "      <td>NaN</td>\n",
       "      <td>Generic Tools, Basic Workforce</td>\n",
       "    </tr>\n",
       "    <tr>\n",
       "      <th>1</th>\n",
       "      <td>PRJ00002</td>\n",
       "      <td>Secondary Education Department</td>\n",
       "      <td>Smart Classrooms</td>\n",
       "      <td>Last Decade</td>\n",
       "      <td>2012-07-20</td>\n",
       "      <td>2013-05-30</td>\n",
       "      <td>Completed</td>\n",
       "      <td>Dayal Bagh</td>\n",
       "      <td>Basic Education Department, Planning Department</td>\n",
       "      <td>Wi-Fi Equipment, Projectors</td>\n",
       "    </tr>\n",
       "    <tr>\n",
       "      <th>2</th>\n",
       "      <td>PRJ00003</td>\n",
       "      <td>Uttar Pradesh Sainik Rehabilitation Fund</td>\n",
       "      <td>Veteran Housing</td>\n",
       "      <td>Last to Last Decade</td>\n",
       "      <td>2005-09-28</td>\n",
       "      <td>2007-03-16</td>\n",
       "      <td>Completed</td>\n",
       "      <td>Bhagwan Talkies</td>\n",
       "      <td>NaN</td>\n",
       "      <td>Basic Workforce, Generic Tools</td>\n",
       "    </tr>\n",
       "    <tr>\n",
       "      <th>3</th>\n",
       "      <td>PRJ00004</td>\n",
       "      <td>Food Safety and Drug Administration Department</td>\n",
       "      <td>Food Lab Setup</td>\n",
       "      <td>Last Decade</td>\n",
       "      <td>2021-02-06</td>\n",
       "      <td>2022-10-24</td>\n",
       "      <td>Completed</td>\n",
       "      <td>Civil Lines</td>\n",
       "      <td>NaN</td>\n",
       "      <td>Generic Tools, Basic Workforce</td>\n",
       "    </tr>\n",
       "    <tr>\n",
       "      <th>4</th>\n",
       "      <td>PRJ00005</td>\n",
       "      <td>Excise Department</td>\n",
       "      <td>Online Licensing</td>\n",
       "      <td>Last Decade</td>\n",
       "      <td>2019-08-21</td>\n",
       "      <td>2020-07-14</td>\n",
       "      <td>Completed</td>\n",
       "      <td>Dayal Bagh</td>\n",
       "      <td>NaN</td>\n",
       "      <td>Generic Tools, Basic Workforce</td>\n",
       "    </tr>\n",
       "    <tr>\n",
       "      <th>...</th>\n",
       "      <td>...</td>\n",
       "      <td>...</td>\n",
       "      <td>...</td>\n",
       "      <td>...</td>\n",
       "      <td>...</td>\n",
       "      <td>...</td>\n",
       "      <td>...</td>\n",
       "      <td>...</td>\n",
       "      <td>...</td>\n",
       "      <td>...</td>\n",
       "    </tr>\n",
       "    <tr>\n",
       "      <th>9995</th>\n",
       "      <td>PRJ09996</td>\n",
       "      <td>Dairy Development Department</td>\n",
       "      <td>Cold Chain Infrastructure</td>\n",
       "      <td>Last to Last Decade</td>\n",
       "      <td>2006-08-20</td>\n",
       "      <td>2009-01-11</td>\n",
       "      <td>Completed</td>\n",
       "      <td>Rakabganj</td>\n",
       "      <td>NaN</td>\n",
       "      <td>Generic Tools, Basic Workforce</td>\n",
       "    </tr>\n",
       "    <tr>\n",
       "      <th>9996</th>\n",
       "      <td>PRJ09997</td>\n",
       "      <td>Horticulture and Food Processing Department</td>\n",
       "      <td>Cold Storage</td>\n",
       "      <td>Last Decade</td>\n",
       "      <td>2022-04-02</td>\n",
       "      <td>2023-06-03</td>\n",
       "      <td>Completed</td>\n",
       "      <td>Kheria Mod</td>\n",
       "      <td>NaN</td>\n",
       "      <td>Generic Tools, Basic Workforce</td>\n",
       "    </tr>\n",
       "    <tr>\n",
       "      <th>9997</th>\n",
       "      <td>PRJ09998</td>\n",
       "      <td>Jal Kal Vibhag Agra</td>\n",
       "      <td>Water Pipeline</td>\n",
       "      <td>Ongoing</td>\n",
       "      <td>2023-10-20</td>\n",
       "      <td>2026-02-08</td>\n",
       "      <td>Ongoing</td>\n",
       "      <td>Daresi No.2</td>\n",
       "      <td>Urban Development Department, Local Bodies, En...</td>\n",
       "      <td>Water Pumps, Leak Testing Kits, Excavation Units</td>\n",
       "    </tr>\n",
       "    <tr>\n",
       "      <th>9998</th>\n",
       "      <td>PRJ09999</td>\n",
       "      <td>Dairy Development Department</td>\n",
       "      <td>Cold Chain Infrastructure</td>\n",
       "      <td>Last to Last Decade</td>\n",
       "      <td>2000-08-02</td>\n",
       "      <td>2002-03-16</td>\n",
       "      <td>Completed</td>\n",
       "      <td>Kamla Nagar</td>\n",
       "      <td>NaN</td>\n",
       "      <td>Basic Workforce, Generic Tools</td>\n",
       "    </tr>\n",
       "    <tr>\n",
       "      <th>9999</th>\n",
       "      <td>PRJ10000</td>\n",
       "      <td>Jal Kal Vibhag Agra</td>\n",
       "      <td>Water Pipeline</td>\n",
       "      <td>Ongoing</td>\n",
       "      <td>2024-05-04</td>\n",
       "      <td>2026-06-10</td>\n",
       "      <td>Ongoing</td>\n",
       "      <td>Surya Nagar</td>\n",
       "      <td>Urban Development Department, Local Bodies, En...</td>\n",
       "      <td>Excavation Units, Water Pumps, Leak Testing Kits</td>\n",
       "    </tr>\n",
       "  </tbody>\n",
       "</table>\n",
       "<p>10000 rows × 10 columns</p>\n",
       "</div>"
      ],
      "text/plain": [
       "     Project ID                                      Department  \\\n",
       "0      PRJ00001                              Finance Department   \n",
       "1      PRJ00002                  Secondary Education Department   \n",
       "2      PRJ00003        Uttar Pradesh Sainik Rehabilitation Fund   \n",
       "3      PRJ00004  Food Safety and Drug Administration Department   \n",
       "4      PRJ00005                               Excise Department   \n",
       "...         ...                                             ...   \n",
       "9995   PRJ09996                    Dairy Development Department   \n",
       "9996   PRJ09997     Horticulture and Food Processing Department   \n",
       "9997   PRJ09998                             Jal Kal Vibhag Agra   \n",
       "9998   PRJ09999                    Dairy Development Department   \n",
       "9999   PRJ10000                             Jal Kal Vibhag Agra   \n",
       "\n",
       "                   Project Type         Timeline Tag Start Date   End Date  \\\n",
       "0              Budget Dashboard          Last Decade 2015-06-29 2016-01-21   \n",
       "1              Smart Classrooms          Last Decade 2012-07-20 2013-05-30   \n",
       "2               Veteran Housing  Last to Last Decade 2005-09-28 2007-03-16   \n",
       "3                Food Lab Setup          Last Decade 2021-02-06 2022-10-24   \n",
       "4              Online Licensing          Last Decade 2019-08-21 2020-07-14   \n",
       "...                         ...                  ...        ...        ...   \n",
       "9995  Cold Chain Infrastructure  Last to Last Decade 2006-08-20 2009-01-11   \n",
       "9996               Cold Storage          Last Decade 2022-04-02 2023-06-03   \n",
       "9997             Water Pipeline              Ongoing 2023-10-20 2026-02-08   \n",
       "9998  Cold Chain Infrastructure  Last to Last Decade 2000-08-02 2002-03-16   \n",
       "9999             Water Pipeline              Ongoing 2024-05-04 2026-06-10   \n",
       "\n",
       "         Status         Location  \\\n",
       "0     Completed         Ram Bagh   \n",
       "1     Completed       Dayal Bagh   \n",
       "2     Completed  Bhagwan Talkies   \n",
       "3     Completed      Civil Lines   \n",
       "4     Completed       Dayal Bagh   \n",
       "...         ...              ...   \n",
       "9995  Completed        Rakabganj   \n",
       "9996  Completed       Kheria Mod   \n",
       "9997    Ongoing      Daresi No.2   \n",
       "9998  Completed      Kamla Nagar   \n",
       "9999    Ongoing      Surya Nagar   \n",
       "\n",
       "                             Other Departments Involved  \\\n",
       "0                                                   NaN   \n",
       "1       Basic Education Department, Planning Department   \n",
       "2                                                   NaN   \n",
       "3                                                   NaN   \n",
       "4                                                   NaN   \n",
       "...                                                 ...   \n",
       "9995                                                NaN   \n",
       "9996                                                NaN   \n",
       "9997  Urban Development Department, Local Bodies, En...   \n",
       "9998                                                NaN   \n",
       "9999  Urban Development Department, Local Bodies, En...   \n",
       "\n",
       "                      Inventory of Available Resources  \n",
       "0                       Generic Tools, Basic Workforce  \n",
       "1                          Wi-Fi Equipment, Projectors  \n",
       "2                       Basic Workforce, Generic Tools  \n",
       "3                       Generic Tools, Basic Workforce  \n",
       "4                       Generic Tools, Basic Workforce  \n",
       "...                                                ...  \n",
       "9995                    Generic Tools, Basic Workforce  \n",
       "9996                    Generic Tools, Basic Workforce  \n",
       "9997  Water Pumps, Leak Testing Kits, Excavation Units  \n",
       "9998                    Basic Workforce, Generic Tools  \n",
       "9999  Excavation Units, Water Pumps, Leak Testing Kits  \n",
       "\n",
       "[10000 rows x 10 columns]"
      ]
     },
     "execution_count": 2,
     "metadata": {},
     "output_type": "execute_result"
    }
   ],
   "source": [
    "df = pd.read_excel(r\"C:\\Users\\gtanu\\Downloads\\Prabandhan\\Dataset.xlsx\")\n",
    "df"
   ]
  },
  {
   "cell_type": "code",
   "execution_count": 3,
   "id": "53f10770",
   "metadata": {},
   "outputs": [
    {
     "data": {
      "application/vnd.jupyter.widget-view+json": {
       "model_id": "8bb426bd89474deca4005fcb65a22054",
       "version_major": 2,
       "version_minor": 0
      },
      "text/plain": [
       "Summarize dataset:   0%|          | 0/5 [00:00<?, ?it/s]"
      ]
     },
     "metadata": {},
     "output_type": "display_data"
    },
    {
     "name": "stderr",
     "output_type": "stream",
     "text": [
      "100%|██████████| 10/10 [00:00<00:00, 16.91it/s]\n"
     ]
    },
    {
     "data": {
      "application/vnd.jupyter.widget-view+json": {
       "model_id": "cb4b128bd5504d80806fda64e4f45542",
       "version_major": 2,
       "version_minor": 0
      },
      "text/plain": [
       "Generate report structure:   0%|          | 0/1 [00:00<?, ?it/s]"
      ]
     },
     "metadata": {},
     "output_type": "display_data"
    },
    {
     "data": {
      "application/vnd.jupyter.widget-view+json": {
       "model_id": "1e432a7b4f62462791d76252470367e5",
       "version_major": 2,
       "version_minor": 0
      },
      "text/plain": [
       "Render HTML:   0%|          | 0/1 [00:00<?, ?it/s]"
      ]
     },
     "metadata": {},
     "output_type": "display_data"
    },
    {
     "data": {
      "application/vnd.jupyter.widget-view+json": {
       "model_id": "03ca145d0a4c4b079575081f407bfb6c",
       "version_major": 2,
       "version_minor": 0
      },
      "text/plain": [
       "Export report to file:   0%|          | 0/1 [00:00<?, ?it/s]"
      ]
     },
     "metadata": {},
     "output_type": "display_data"
    }
   ],
   "source": [
    "profile = ProfileReport(df, explorative=True)\n",
    "profile.to_file('EDA_Report.html')"
   ]
  },
  {
   "cell_type": "code",
   "execution_count": null,
   "id": "71219c47",
   "metadata": {},
   "outputs": [],
   "source": []
  }
 ],
 "metadata": {
  "kernelspec": {
   "display_name": "Python 3",
   "language": "python",
   "name": "python3"
  },
  "language_info": {
   "codemirror_mode": {
    "name": "ipython",
    "version": 3
   },
   "file_extension": ".py",
   "mimetype": "text/x-python",
   "name": "python",
   "nbconvert_exporter": "python",
   "pygments_lexer": "ipython3",
   "version": "3.12.4"
  }
 },
 "nbformat": 4,
 "nbformat_minor": 5
}
